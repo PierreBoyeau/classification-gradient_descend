{
 "cells": [
  {
   "cell_type": "code",
   "execution_count": 15,
   "metadata": {
    "collapsed": true
   },
   "outputs": [],
   "source": [
    "%matplotlib inline\n",
    "import numpy as np\n",
    "import matplotlib.pyplot as plt\n",
    "from tools import *"
   ]
  },
  {
   "cell_type": "code",
   "execution_count": 16,
   "metadata": {
    "collapsed": true
   },
   "outputs": [],
   "source": [
    "# -*- coding: utf-8 -*-\n",
    "\n",
    "def plot_data(data,labels=None):\n",
    "    \"\"\"\n",
    "    Affiche des donnees 2D\n",
    "    :param data: matrice des donnees 2d\n",
    "    :param labels: vecteur des labels (discrets)\n",
    "    :return:\n",
    "    \"\"\"\n",
    "    cols,marks = [\"red\", \"blue\",\"green\", \"orange\", \"black\", \"cyan\"],[\".\",\"+\",\"*\",\"o\",\"x\",\"^\"]\n",
    "    if labels is None:\n",
    "        plt.scatter(data[:,0],data[:,1],marker=\"x\")\n",
    "        return\n",
    "    for i,l in enumerate(sorted(list(set(labels.flatten())))):\n",
    "        plt.scatter(data[labels==l,0],data[labels==l,1],c=cols[i],marker=marks[i])\n",
    "\n",
    "def plot_frontiere(data,f,step=20):\n",
    "    \"\"\" Trace un graphe de la frontiere de decision de f\n",
    "    :param data: donnees\n",
    "    :param f: fonction de decision\n",
    "    :param step: pas de la grille\n",
    "    :return:\n",
    "    \"\"\"\n",
    "    grid,x,y=make_grid(data=data,step=step)\n",
    "    plt.contourf(x,y,f(grid).reshape(x.shape),256)\n",
    "\n",
    "def make_grid(data=None,xmin=-5,xmax=5,ymin=-5,ymax=5,step=20):\n",
    "    \"\"\" Cree une grille sous forme de matrice 2d de la liste des points\n",
    "    :param data: pour calcluler les bornes du graphe\n",
    "    :param xmin: si pas data, alors bornes du graphe\n",
    "    :param xmax:\n",
    "    :param ymin:\n",
    "    :param ymax:\n",
    "    :param step: pas de la grille\n",
    "    :return: une matrice 2d contenant les points de la grille\n",
    "    \"\"\"\n",
    "    if data is not None:\n",
    "        xmax, xmin, ymax, ymin = np.max(data[:,0]),  np.min(data[:,0]), np.max(data[:,1]), np.min(data[:,1])\n",
    "    x, y =np.meshgrid(np.arange(xmin,xmax,(xmax-xmin)*1./step), np.arange(ymin,ymax,(ymax-ymin)*1./step))\n",
    "    grid=np.c_[x.ravel(),y.ravel()]\n",
    "    return grid, x, y\n",
    "\n",
    "\n",
    "def gen_arti(centerx=1,centery=1,sigma=0.1,nbex=1000,data_type=0,epsilon=0.02):\n",
    "    \"\"\" Generateur de donnees,\n",
    "        :param centerx: centre des gaussiennes\n",
    "        :param centery:\n",
    "        :param sigma: des gaussiennes\n",
    "        :param nbex: nombre d'exemples\n",
    "        :param data_type: 0: melange 2 gaussiennes, 1: melange 4 gaussiennes, 2:echequier\n",
    "        :param epsilon: bruit dans les donnees\n",
    "        :return: data matrice 2d des donnnes,y etiquette des donnnees\n",
    "    \"\"\"\n",
    "    if data_type==0:\n",
    "         #melange de 2 gaussiennes\n",
    "         xpos=np.random.multivariate_normal([centerx,centerx],np.diag([sigma,sigma]),int(nbex//2))\n",
    "         xneg=np.random.multivariate_normal([-centerx,-centerx],np.diag([sigma,sigma]),int(nbex//2))\n",
    "         data=np.vstack((xpos,xneg))\n",
    "         y=np.hstack((np.ones(nbex//2),-np.ones(nbex//2)))\n",
    "    if data_type==1:\n",
    "        #melange de 4 gaussiennes\n",
    "        xpos=np.vstack((np.random.multivariate_normal([centerx,centerx],np.diag([sigma,sigma]),int(nbex//4)),np.random.multivariate_normal([-centerx,-centerx],np.diag([sigma,sigma]),int(nbex/4))))\n",
    "        xneg=np.vstack((np.random.multivariate_normal([-centerx,centerx],np.diag([sigma,sigma]),int(nbex//4)),np.random.multivariate_normal([centerx,-centerx],np.diag([sigma,sigma]),int(nbex/4))))\n",
    "        data=np.vstack((xpos,xneg))\n",
    "        y=np.hstack((np.ones(nbex//2),-np.ones(int(nbex//2))))\n",
    "\n",
    "    if data_type==2:\n",
    "        #echiquier\n",
    "        data=np.reshape(np.random.uniform(-4,4,2*nbex),(nbex,2))\n",
    "        y=np.ceil(data[:,0])+np.ceil(data[:,1])\n",
    "        y=2*(y % 2)-1\n",
    "    # un peu de bruit\n",
    "    data[:,0]+=np.random.normal(0,epsilon,nbex)\n",
    "    data[:,1]+=np.random.normal(0,epsilon,nbex)\n",
    "    # on mélange les données\n",
    "    idx = np.random.permutation((range(y.size)))\n",
    "    data=data[idx,:]\n",
    "    y=y[idx]\n",
    "    return data,y\n"
   ]
  },
  {
   "cell_type": "markdown",
   "metadata": {},
   "source": [
    "# Données et classifieur bayésien naïf"
   ]
  },
  {
   "cell_type": "markdown",
   "metadata": {},
   "source": [
    "## Données artificielles"
   ]
  },
  {
   "cell_type": "code",
   "execution_count": 17,
   "metadata": {
    "collapsed": false
   },
   "outputs": [
    {
     "data": {
      "image/png": "[encoded data removed]",
      "text/plain": [
       "<matplotlib.figure.Figure at 0x284d3f7b8d0>"
      ]
     },
     "metadata": {},
     "output_type": "display_data"
    }
   ],
   "source": [
    "# Visualisation des données\n",
    "data0, y0 = gen_arti(data_type=0)\n",
    "plot_data(data0, y0)"
   ]
  },
  {
   "cell_type": "code",
   "execution_count": 18,
   "metadata": {
    "collapsed": false
   },
   "outputs": [
    {
     "data": {
      "image/png": "[encoded data removed]",
      "text/plain": [
       "<matplotlib.figure.Figure at 0x284d3f4acf8>"
      ]
     },
     "metadata": {},
     "output_type": "display_data"
    }
   ],
   "source": [
    "data1, y1 = gen_arti(data_type=1)\n",
    "plot_data(data1, y1)"
   ]
  },
  {
   "cell_type": "code",
   "execution_count": 19,
   "metadata": {
    "collapsed": false
   },
   "outputs": [
    {
     "data": {
      "image/png": "[encoded data removed]",
      "text/plain": [
       "<matplotlib.figure.Figure at 0x284d52d4978>"
      ]
     },
     "metadata": {},
     "output_type": "display_data"
    }
   ],
   "source": [
    "data2, y2 = gen_arti(data_type=2)\n",
    "plot_data(data2, y2)"
   ]
  },
  {
   "cell_type": "markdown",
   "metadata": {},
   "source": [
    "## Données réelles"
   ]
  },
  {
   "cell_type": "code",
   "execution_count": 24,
   "metadata": {
    "collapsed": false
   },
   "outputs": [
    {
     "data": {
      "image/png": "[encoded data removed]",
      "text/plain": [
       "<matplotlib.figure.Figure at 0x284d3ee7470>"
      ]
     },
     "metadata": {},
     "output_type": "display_data"
    },
    {
     "data": {
      "image/png": "[encoded data removed]",
      "text/plain": [
       "<matplotlib.figure.Figure at 0x284d400acc0>"
      ]
     },
     "metadata": {},
     "output_type": "display_data"
    }
   ],
   "source": [
    "def load_usps(filename):\n",
    "    with open(filename,\"r\") as f:\n",
    "        f.readline()\n",
    "        data =[ [float(x) for x in l.split()] for l in f if len(l.split())>2]\n",
    "    tmp = np.array(data)\n",
    "    return tmp[:,1:],tmp[:,0].astype(int)\n",
    "\n",
    "def get_usps(l,datax,datay):\n",
    "    \"\"\" l : liste des chiffres a extraire\"\"\"\n",
    "    if type(l)!=list:\n",
    "        resx = datax[datay==l,:]\n",
    "        resy = datay[datay==l]\n",
    "        return resx,resy\n",
    "    tmp =   list(zip(*[get_usps(i,datax,datay) for i in l]))\n",
    "    tmpx,tmpy = np.vstack(tmp[0]),np.hstack(tmp[1])\n",
    "    idx = np.random.permutation(range(len(tmpy)))\n",
    "    return tmpx[idx,:],tmpy[idx]\n",
    "\n",
    "def show_usps(data):\n",
    "    plt.imshow(data.reshape((16,16)),interpolation=\"nearest\",cmap=\"gray\")\n",
    "\n",
    "\n",
    "### Donnees artificielles\n",
    "plt.ion()\n",
    "xgentrain,ygentrain = gen_arti(data_type=0,sigma=0.5,nbex=1000,epsilon=0.1)\n",
    "xgentest,ygentest = gen_arti(data_type=0,sigma=0.5,nbex=1000,epsilon=0.1)\n",
    "plt.figure()\n",
    "plot_data(xgentrain,ygentrain)\n",
    "\n",
    "### Donnees reelles\n",
    "plt.figure()\n",
    "xuspstrain,yuspstrain = load_usps(\"USPS_train.txt\")\n",
    "xuspstest,yuspstest = load_usps(\"USPS_test.txt\")\n",
    "x06train,y06train = get_usps([0,6],xuspstrain,yuspstrain)\n",
    "x06test,y06test = get_usps([0,6],xuspstest,yuspstest)\n",
    "show_usps(x06train[0])\n"
   ]
  },
  {
   "cell_type": "markdown",
   "metadata": {},
   "source": [
    "A mons avis, il est a priori plus simple de classifier 2 chiffres aux formes très différentes que de classifier un chiffre contre tous les autres.\n",
    "En effet, il existe des paires de chiffres qui vont potentiellement être difficiles à différencier. Ce sont les paires qui ont des formes communes, comme peuvent l'être par exemple:\n",
    "- 0 et 8\n",
    "- 8 et 6\n",
    "- 1 et 7\n",
    "- 5 et 6"
   ]
  },
  {
   "cell_type": "code",
   "execution_count": 127,
   "metadata": {
    "collapsed": false
   },
   "outputs": [],
   "source": [
    "class Bayes:\n",
    "    \"\"\"Pour l'instant marche uniquement pour de la classification binaire\"\"\"\n",
    "    def __init__(self, apriori=[1/2, 1/2]):\n",
    "        self.p_y = apriori.copy()\n",
    "        \n",
    "        pass\n",
    "    \n",
    "    def predict(self,data):\n",
    "        func = np.array([self.log_proba(data, ind) for ind, y in enumerate(self.nb_labels)]).T\n",
    "        y_predict = np.argmax(func, axis=1)\n",
    "        np.place(y_predict, y_predict==0, -1)\n",
    "        return y_predict\n",
    "                        \n",
    "    def log_proba(self, x, label):\n",
    "        mu, std = self.mu[label], self.std[label]\n",
    "        logproba = -(x-mu)**2 + 2*(std**2)\n",
    "        logproba = np.log(self.p_y[label]) + logproba\n",
    "        logproba = np.sum(logproba, axis=1)\n",
    "        return logproba\n",
    "        \n",
    "    def fit(self,data,labels):\n",
    "        self.mu = []\n",
    "        self.std = []\n",
    "        self.nb_labels = np.unique(labels)\n",
    "        for y in self.nb_labels:\n",
    "            self.mu.append(np.mean(data[labels==y], axis=0))\n",
    "            self.std.append(np.std(data[labels==y], axis=0))\n",
    "        self.mu = np.array(self.mu)\n",
    "        self.std = np.array(self.std)\n",
    "        assert(len(self.mu)==len(self.nb_labels))\n",
    "        pass\n",
    "    \n",
    "    def score(self,data,labels):\n",
    "        return (self.predict(data)==labels).mean()\n",
    "    \n",
    "    \n"
   ]
  },
  {
   "cell_type": "code",
   "execution_count": 131,
   "metadata": {
    "collapsed": false
   },
   "outputs": [
    {
     "data": {
      "image/png": "[encoded data removed]",
      "text/plain": [
       "<matplotlib.figure.Figure at 0x284d3fc32e8>"
      ]
     },
     "metadata": {},
     "output_type": "display_data"
    }
   ],
   "source": [
    "bay = Bayes()\n",
    "bay.fit(xgentrain, ygentrain)\n",
    "predict = bay.predict(xgentest)\n",
    "plot_data(xgentest, predict)"
   ]
  },
  {
   "cell_type": "code",
   "execution_count": 141,
   "metadata": {
    "collapsed": false
   },
   "outputs": [
    {
     "data": {
      "image/png": "[encoded data removed]",
      "text/plain": [
       "<matplotlib.figure.Figure at 0x284d40f57b8>"
      ]
     },
     "metadata": {},
     "output_type": "display_data"
    }
   ],
   "source": [
    "plot_frontiere(xgentest, bay.predict)"
   ]
  },
  {
   "cell_type": "markdown",
   "metadata": {},
   "source": [
    "**COMPLETER ET FINIR PARTIE**"
   ]
  },
  {
   "cell_type": "markdown",
   "metadata": {},
   "source": [
    "# Descente de gradient"
   ]
  },
  {
   "cell_type": "code",
   "execution_count": 142,
   "metadata": {
    "collapsed": true
   },
   "outputs": [],
   "source": [
    "def optimize(func, dfunc, xinit=1, eps=0.1, max_iter=200):\n",
    "    converged = False\n",
    "    ind = 0\n",
    "    xt, ft, dt = xinit, func(xinit), dfunc(xinit)\n",
    "    X, F, D = [xt], [ft], [dt]\n",
    "    for i in range(max_iter):\n",
    "        xt = xt - eps*dt\n",
    "        ft, dt = func(xt), dfunc(xt)\n",
    "        X.append(xt)\n",
    "        F.append(ft)\n",
    "        D.append(dt)\n",
    "    return np.array(X), np.array(F), np.array(D)"
   ]
  },
  {
   "cell_type": "markdown",
   "metadata": {},
   "source": [
    "Test sur la fonction $f:x \\rightarrow x \\cos (x)$"
   ]
  },
  {
   "cell_type": "code",
   "execution_count": 143,
   "metadata": {
    "collapsed": false
   },
   "outputs": [],
   "source": [
    "f = lambda x : x*np.cos(x)\n",
    "df = lambda x : np.cos(x) - x*np.sin(x)\n",
    "xs, fs, ds = optimize(f, df)\n"
   ]
  },
  {
   "cell_type": "markdown",
   "metadata": {},
   "source": [
    "**COMPLETER ET FINIR PARTIE**"
   ]
  },
  {
   "cell_type": "markdown",
   "metadata": {},
   "source": [
    "# Applications : Classification plug-in et Régression logistique"
   ]
  },
  {
   "cell_type": "markdown",
   "metadata": {},
   "source": [
    "\n",
    "Calcul des gradients de coûts:\n",
    "- Pour la classification plug-in.\n",
    "Le coût s'écrit $L(w, X)= ||f_w(X) - Y||^2 = \\sum_i (f_w(X)_i-y_i)^2$\n",
    "$$\\frac{\\partial L}{\\partial w_j} = 2\\sum_i X_{nj}(f_w(X)_i - y_i)=2X_j^T(f_w(X)-y)$$\n",
    "où X_j est le j ème vecteur colonne de X.\n",
    "D'où enfin:\n",
    "$$\\nabla L = 2 X^T(f_w(X)-y)$$\n",
    "- Pour la classification à l'aide de régression logistique:\n",
    "$$L(w,X) = \\sum_i \\log(1 + e^{-y_if_w(x^i)})$$\n",
    "Donc\n",
    "$$\\frac{\\partial L}{\\partial w_j}$$\n"
   ]
  },
  {
   "cell_type": "markdown",
   "metadata": {},
   "source": [
    "TOUJOURS TRANSFORMER EN MATRICES\n",
    "data = data.reshape(len(label), -1)\n",
    "label = labeL.reshape(-1, 1)"
   ]
  },
  {
   "cell_type": "code",
   "execution_count": 194,
   "metadata": {
    "collapsed": false
   },
   "outputs": [],
   "source": [
    "# MSE AND grad of MSE for plugin classification\n",
    "def mse(w, data, label):\n",
    "    data = data.reshape((len(label),-1))\n",
    "    label = label.reshape(-1)\n",
    "    vec = np.dot(data, w) - label\n",
    "    return (vec**2).mean()\n",
    "\n",
    "def grad_mse(w, data, label):\n",
    "    data = data.reshape((len(label),-1))\n",
    "    label = label.reshape(-1)\n",
    "    vec = np.dot(data, w) - label\n",
    "    return np.dot(2*data.T, vec) / len(label)\n",
    "    "
   ]
  },
  {
   "cell_type": "code",
   "execution_count": 195,
   "metadata": {
    "collapsed": false
   },
   "outputs": [
    {
     "name": "stdout",
     "output_type": "stream",
     "text": [
      "2.0390327469\n",
      "[ 3.0673248   3.08609654]\n"
     ]
    }
   ],
   "source": [
    "# Tests\n",
    "data = xgentest\n",
    "label = ygentest\n",
    "n,d = np.shape(xgentest)\n",
    "w = np.ones(d)\n",
    "data = data.reshape((len(label),-1))\n",
    "label = label.reshape(-1)\n",
    "\n",
    "print(mse(w, data, label))\n",
    "print(grad_mse(w, data, label))"
   ]
  },
  {
   "cell_type": "code",
   "execution_count": 196,
   "metadata": {
    "collapsed": true
   },
   "outputs": [],
   "source": [
    "def reglog(w, data, label):\n",
    "    data = data.reshape((len(label),-1))\n",
    "    label = label.reshape(-1)\n",
    "    \n",
    "    reg = np.dot(data, w)\n",
    "    costs = np.log(1+np.exp(np.multiply(-label, reg)))\n",
    "    return np.sum(costs) / len(label)\n",
    "\n",
    "def grad_reglog(w, data, label):\n",
    "    \n",
    "    return "
   ]
  },
  {
   "cell_type": "code",
   "execution_count": 197,
   "metadata": {
    "collapsed": false
   },
   "outputs": [
    {
     "name": "stdout",
     "output_type": "stream",
     "text": [
      "0.175340173706\n"
     ]
    }
   ],
   "source": [
    "# Tests\n",
    "data = xgentest\n",
    "label = ygentest\n",
    "n,d = np.shape(xgentest)\n",
    "w = np.ones(d)\n",
    "data = data.reshape((len(label),-1))\n",
    "label = label.reshape(-1)\n",
    "reg = np.dot(data, w)\n",
    "cost = np.log(1+np.exp(np.multiply(-label, reg)))\n",
    "np.sum(cost)\n",
    "print(reglog(w, data, label))\n",
    "# print(grad_mse(w, data, label))"
   ]
  },
  {
   "cell_type": "code",
   "execution_count": null,
   "metadata": {
    "collapsed": true
   },
   "outputs": [],
   "source": [
    "n, d = np.shape(data)\n",
    "datab = np.ones((n,d+1))\n",
    "datab[:, 1:] = data"
   ]
  }
 ],
 "metadata": {
  "kernelspec": {
   "display_name": "Python 3",
   "language": "python",
   "name": "python3"
  },
  "language_info": {
   "codemirror_mode": {
    "name": "ipython",
    "version": 3
   },
   "file_extension": ".py",
   "mimetype": "text/x-python",
   "name": "python",
   "nbconvert_exporter": "python",
   "pygments_lexer": "ipython3",
   "version": "3.5.2"
  }
 },
 "nbformat": 4,
 "nbformat_minor": 2
}
